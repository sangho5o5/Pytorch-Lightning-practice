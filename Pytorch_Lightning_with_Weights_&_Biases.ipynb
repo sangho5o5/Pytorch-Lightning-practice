{
  "nbformat": 4,
  "nbformat_minor": 0,
  "metadata": {
    "colab": {
      "name": "Pytorch-Lightning with Weights & Biases.ipynb",
      "private_outputs": true,
      "provenance": [],
      "collapsed_sections": []
    },
    "kernelspec": {
      "name": "python3",
      "display_name": "Python 3"
    },
    "accelerator": "GPU"
  },
  "cells": [
    {
      "cell_type": "markdown",
      "metadata": {
        "id": "fD5iOt_z0s_4"
      },
      "source": [
        "# Weights & Biases와 함께 Pytorch Lightning 사용하기"
      ]
    },
    {
      "cell_type": "markdown",
      "metadata": {
        "id": "bdJHPAEe9ZOZ"
      },
      "source": [
        "https://wandb.ai/wandb_fc/korean/reports/Weights-Biases-Pytorch-Lightning---VmlldzozNzAxOTg  \n",
        "위의 링크를 참고하여 작성하였습니다."
      ]
    },
    {
      "cell_type": "markdown",
      "metadata": {
        "id": "hBDLwEGJ03W_"
      },
      "source": [
        "## Install dependencies"
      ]
    },
    {
      "cell_type": "code",
      "metadata": {
        "id": "FplHOfK2094n"
      },
      "source": [
        "!pip install -q wandb \n",
        "!pip install -q pytorch-lightning"
      ],
      "execution_count": null,
      "outputs": []
    },
    {
      "cell_type": "markdown",
      "metadata": {
        "id": "bq5l7LvQ1MI6"
      },
      "source": [
        "## Import required modules"
      ]
    },
    {
      "cell_type": "code",
      "metadata": {
        "id": "M9AO80L80smw"
      },
      "source": [
        "# Weights & Biases\n",
        "import wandb\n",
        "from pytorch_lightning.loggers import WandbLogger\n",
        "\n",
        "# Pytorch modules\n",
        "import torch\n",
        "from torch.nn import functional as F\n",
        "from torch import nn\n",
        "from torch.optim import Adam\n",
        "from torch.utils.data import DataLoader, random_split\n",
        "\n",
        "# Pytorch-Lightning\n",
        "from pytorch_lightning import LightningDataModule, LightningModule, Trainer\n",
        "import pytorch_lightning as pl\n",
        "\n",
        "# Dataset\n",
        "from torchvision.datasets import MNIST\n",
        "from torchvision import transforms"
      ],
      "execution_count": null,
      "outputs": []
    },
    {
      "cell_type": "code",
      "source": [
        "!pip install -q torchmetrics"
      ],
      "metadata": {
        "id": "lniju6K0Onyu"
      },
      "execution_count": null,
      "outputs": []
    },
    {
      "cell_type": "code",
      "source": [
        "import torchmetrics"
      ],
      "metadata": {
        "id": "SrYtu5rAOszx"
      },
      "execution_count": null,
      "outputs": []
    },
    {
      "cell_type": "markdown",
      "metadata": {
        "id": "H4Y0pZwX2AsG"
      },
      "source": [
        "## Defining a model\n",
        "\n",
        "In Pytorch-Lightning, models are built with `LightningModule`, equivalent to `torch.nn.Module` but with added functionality to simplify training.\n",
        "\n",
        "Models are defined with:\n",
        "* `__init__` for model parameters\n",
        "* `forward` for inference\n",
        "* `training_step` returns a loss from a single batch\n",
        "* `configure_optimizers` defines the training optimizer\n",
        "\n",
        "Additional methods can be defined such as:\n",
        "* `validation_step` and `test_step` for logging metrics when working with validation & test data sets\n",
        "* methods such as `training_step_end` and `training_epoch_end` for more complex loops\n",
        "* other custom hooks for more flexibility"
      ]
    },
    {
      "cell_type": "code",
      "metadata": {
        "id": "WXtU8qhm1oAr"
      },
      "source": [
        "class LitMNIST(LightningModule):\n",
        "\n",
        "    def __init__(self, n_classes=10, n_layer_1=128, n_layer_2=256, lr=1e-3):\n",
        "        '''method used to define our model parameters'''\n",
        "        super().__init__()\n",
        "\n",
        "        # mnist images are (1, 28, 28) (channels, width, height)\n",
        "        self.layer_1 = torch.nn.Linear(28 * 28, n_layer_1)\n",
        "        self.layer_2 = torch.nn.Linear(n_layer_1, n_layer_2)\n",
        "        self.layer_3 = torch.nn.Linear(n_layer_2, n_classes)\n",
        "\n",
        "        # optimizer parameters\n",
        "        self.lr = lr\n",
        "\n",
        "        # metrics\n",
        "        self.accuracy = torchmetrics.Accuracy()\n",
        "\n",
        "        # optional - save hyper-parameters to self.hparams\n",
        "        # they will also be automatically logged as config parameters in W&B\n",
        "        self.save_hyperparameters()\n",
        "\n",
        "    def forward(self, x):\n",
        "        '''method used for inference input -> output'''\n",
        "\n",
        "        batch_size, channels, width, height = x.size()\n",
        "\n",
        "        # (b, 1, 28, 28) -> (b, 1*28*28)\n",
        "        x = x.view(batch_size, -1)\n",
        "        x = self.layer_1(x)\n",
        "        x = F.relu(x)\n",
        "        x = self.layer_2(x)\n",
        "        x = F.relu(x)\n",
        "        x = self.layer_3(x)\n",
        "\n",
        "        x = F.log_softmax(x, dim=1)\n",
        "        return x\n",
        "\n",
        "    def training_step(self, batch, batch_idx):\n",
        "        '''needs to return a loss from a single batch'''\n",
        "        x, y = batch\n",
        "        logits = self(x)\n",
        "        loss = F.nll_loss(logits, y)\n",
        "\n",
        "        # Log training loss\n",
        "        self.log('train_loss', loss)\n",
        "\n",
        "        # Log metrics\n",
        "        #self.log('train_acc', self.accuracy(logits, y))\n",
        "\n",
        "        return loss\n",
        "\n",
        "    def validation_step(self, batch, batch_idx):\n",
        "        '''used for logging metrics'''\n",
        "        x, y = batch\n",
        "        logits = self(x)\n",
        "        loss = F.nll_loss(logits, y)\n",
        "\n",
        "        # Log validation loss (will be automatically averaged over an epoch)\n",
        "        self.log('valid_loss', loss)\n",
        "\n",
        "        # Log metrics\n",
        "        #self.log('valid_acc', self.accuracy(logits, y))\n",
        "\n",
        "    def test_step(self, batch, batch_idx):\n",
        "        '''used for logging metrics'''\n",
        "        x, y = batch\n",
        "        logits = self(x)\n",
        "        loss = F.nll_loss(logits, y)\n",
        "\n",
        "        # Log test loss\n",
        "        self.log('test_loss', loss)\n",
        "\n",
        "        # Log metrics\n",
        "        #self.log('test_acc', self.accuracy(logits, y))\n",
        "    \n",
        "    def configure_optimizers(self):\n",
        "        '''defines model optimizer'''\n",
        "        return Adam(self.parameters(), lr=self.lr)"
      ],
      "execution_count": null,
      "outputs": []
    },
    {
      "cell_type": "markdown",
      "metadata": {
        "id": "tlkGoSEzx9f-"
      },
      "source": [
        "*Note: in this particular model we could refactor `training_step`, `validation_step` and `test_step` which share similar code.*"
      ]
    },
    {
      "cell_type": "markdown",
      "metadata": {
        "id": "WuRDSoBf59es"
      },
      "source": [
        "## Loading data\n",
        "\n",
        "Data pipelines can be created with:\n",
        "* Pytorch `DataLoaders`\n",
        "* LightningModule `DataLoaders`\n",
        "* `DataModules`\n",
        "\n",
        "Using `DataModules` is recommended whenever possible as its structured definition allows for additional automated optimization such as workload distribution between CPU & GPU.\n",
        "\n",
        "`DataModules` are defined with:\n",
        "* `prepare_data` (optional) which is called only once and on 1 GPU\n",
        "* `setup` which is called on each GPU separately and accepts `stage` to define if we are at `fit` or `test` step\n",
        "* `train_dataloader`, `val_dataloader` and `test_dataloader` to load respectively training, validation and test datasets"
      ]
    },
    {
      "cell_type": "code",
      "metadata": {
        "id": "n6EvnEfK65ML"
      },
      "source": [
        "class MNISTDataModule(LightningDataModule):\n",
        "\n",
        "    def __init__(self, data_dir='./', batch_size=256):\n",
        "        super().__init__()\n",
        "        self.data_dir = data_dir\n",
        "        self.batch_size = batch_size\n",
        "        self.transform = transforms.ToTensor()\n",
        "\n",
        "    def prepare_data(self):\n",
        "        '''called only once and on 1 GPU'''\n",
        "        # download data\n",
        "        MNIST(self.data_dir, train=True, download=True)\n",
        "        MNIST(self.data_dir, train=False, download=True)\n",
        "\n",
        "    def setup(self, stage=None):\n",
        "        '''called on each GPU separately - stage defines if we are at fit or test step'''\n",
        "        # we set up only relevant datasets when stage is specified (automatically set by Pytorch-Lightning)\n",
        "        if stage == 'fit' or stage is None:\n",
        "            mnist_train = MNIST(self.data_dir, train=True, transform=self.transform)\n",
        "            self.mnist_train, self.mnist_val = random_split(mnist_train, [55000, 5000])\n",
        "        if stage == 'test' or stage is None:\n",
        "            self.mnist_test = MNIST(self.data_dir, train=False, transform=self.transform)\n",
        "\n",
        "    def train_dataloader(self):\n",
        "        '''returns training dataloader'''\n",
        "        mnist_train = DataLoader(self.mnist_train, batch_size=self.batch_size)\n",
        "        return mnist_train\n",
        "\n",
        "    def val_dataloader(self):\n",
        "        '''returns validation dataloader'''\n",
        "        mnist_val = DataLoader(self.mnist_val, batch_size=self.batch_size)\n",
        "        return mnist_val\n",
        "\n",
        "    def test_dataloader(self):\n",
        "        '''returns test dataloader'''\n",
        "        mnist_test = DataLoader(self.mnist_test, batch_size=self.batch_size)\n",
        "        return mnist_test"
      ],
      "execution_count": null,
      "outputs": []
    },
    {
      "cell_type": "markdown",
      "metadata": {
        "id": "o9iizemM2tXv"
      },
      "source": [
        "## Setting up Weights & Biases\n",
        "\n",
        "We log in to W&B (required only once per machine):\n",
        "* in bash, `wandb login`\n",
        "* in notebooks, `wandb.login`"
      ]
    },
    {
      "cell_type": "code",
      "metadata": {
        "id": "Y6fuJ6hq2ige"
      },
      "source": [
        "wandb.login()"
      ],
      "execution_count": null,
      "outputs": []
    },
    {
      "cell_type": "markdown",
      "metadata": {
        "id": "3ByO-oy5JGgD"
      },
      "source": [
        "Logging to W&B is automated by `WandbLogger`. Refer to [the documentation](https://docs.wandb.com/library/integrations/lightning) for custom options.\n",
        "\n"
      ]
    },
    {
      "cell_type": "code",
      "metadata": {
        "id": "NI1Bh8CGI-FG"
      },
      "source": [
        "wandb_logger = WandbLogger(project='MNIST')"
      ],
      "execution_count": null,
      "outputs": []
    },
    {
      "cell_type": "markdown",
      "metadata": {
        "id": "WC3njDPgKRd9"
      },
      "source": [
        "## Training the model\n",
        "\n",
        "We set up our data and model."
      ]
    },
    {
      "cell_type": "code",
      "metadata": {
        "id": "E7zB4ObdI8u8"
      },
      "source": [
        "# setup data\n",
        "mnist = MNISTDataModule()\n",
        " \n",
        "# setup model - choose different hyperparameters per experiment\n",
        "model = LitMNIST(n_layer_1=128, n_layer_2=256, lr=1e-3)"
      ],
      "execution_count": null,
      "outputs": []
    },
    {
      "cell_type": "markdown",
      "metadata": {
        "id": "yfT7TkTsVwan"
      },
      "source": [
        "We can then set up our trainer and customize several options, such as gradient accumulation, half precision training and distributed computing."
      ]
    },
    {
      "cell_type": "code",
      "metadata": {
        "id": "CxXtBfFrKYgA"
      },
      "source": [
        "trainer = Trainer(\n",
        "    logger=wandb_logger,    # W&B integration\n",
        "    gpus=-1,                # use all GPU's\n",
        "    max_epochs=3            # number of epochs\n",
        "    )"
      ],
      "execution_count": null,
      "outputs": []
    },
    {
      "cell_type": "markdown",
      "metadata": {
        "id": "lk75Ex0cWEIT"
      },
      "source": [
        "Training just requires a call to `fit` method."
      ]
    },
    {
      "cell_type": "code",
      "metadata": {
        "id": "9xSW1nrBWGem"
      },
      "source": [
        "trainer.fit(model, mnist)"
      ],
      "execution_count": null,
      "outputs": []
    },
    {
      "cell_type": "markdown",
      "metadata": {
        "id": "MYtIwe-DWMBg"
      },
      "source": [
        "When a test set is available, we just need to call the `test` method."
      ]
    },
    {
      "cell_type": "code",
      "metadata": {
        "id": "T6dD01TpWP8G"
      },
      "source": [
        "trainer.test(model, datamodule=mnist)"
      ],
      "execution_count": null,
      "outputs": []
    },
    {
      "cell_type": "markdown",
      "metadata": {
        "id": "LvhwTDtNX0z3"
      },
      "source": [
        "When we want to close our W&B run, we can call `wandb.finish()` (mainly useful in notebooks, called automatically in scripts)."
      ]
    },
    {
      "cell_type": "code",
      "metadata": {
        "id": "DbxIU2ZoXzcQ"
      },
      "source": [
        "wandb.finish()"
      ],
      "execution_count": null,
      "outputs": []
    },
    {
      "cell_type": "markdown",
      "source": [
        "# 학습 결과"
      ],
      "metadata": {
        "id": "g3MpqflBYHDW"
      }
    },
    {
      "cell_type": "markdown",
      "metadata": {
        "id": "NbTyquwvonoh"
      },
      "source": [
        "![image.png](data:image/png;base64,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)"
      ]
    }
  ]
}